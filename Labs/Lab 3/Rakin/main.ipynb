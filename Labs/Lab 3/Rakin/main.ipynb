{
 "cells": [
  {
   "cell_type": "markdown",
   "metadata": {},
   "source": [
    "### Imports and setups \n",
    "Below are the imports and setups needed for the lab. "
   ]
  },
  {
   "cell_type": "code",
   "execution_count": 2,
   "metadata": {},
   "outputs": [],
   "source": [
    "# All imports\n",
    "from tkinter import Image\n",
    "import numpy as np\n",
    "from scipy.signal import convolve2d, correlate2d\n",
    "from PIL import Image, ImageFilter\n",
    "import matplotlib.pyplot as plt\n",
    "\n",
    "\n",
    "def kmeans_segm(image, K, L, seed):\n",
    "    \"\"\"\n",
    "    Implement k-means clustering:\n",
    "    - Input: image : image input\n",
    "             K : number of cluster centres\n",
    "             L : number of iterations\n",
    "             seed : to initialize random generator\n",
    "    - Output: segmentation : segmented image with a colour index per pixel\n",
    "              centers : final cluster centres in 3D colour space\n",
    "    \"\"\"\n",
    "    # This is used to flatten the image\n",
    "    Ivec = np.reshape(image, (-1, 3))\n",
    "\n",
    "    # Apply k-means clustering algorithm\n",
    "    # Initialize cluster centers randomly\n",
    "    centers = Ivec[np.random.seed(seed), :]\n",
    "\n",
    "    # Initialize nearest_clustery\n",
    "    nearest_cluster = np.zeros_like(Ivec[:, 0])\n",
    "\n",
    "    for _ in range(L):\n",
    "        # Assign pixels to the nearest cluster center by using pyhtagoras equation\n",
    "        distances = np.sqrt(\n",
    "            ((Ivec[:, np.newaxis, :] - centers[np.newaxis, :, :]) ** 2).sum(axis=2)\n",
    "        )\n",
    "        nearest_cluster = np.argmin(distances, axis=1)\n",
    "\n",
    "        # Update cluster centers\n",
    "        for k in range(K):\n",
    "            centers[k] = Ivec[nearest_cluster == k].mean(axis=0)\n",
    "\n",
    "    segmentation = np.reshape(nearest_cluster, (-1, 3))\n",
    "    return segmentation, centers\n",
    "\n",
    "def open_image(name):\n",
    "    \"\"\"\n",
    "    Implement a function that opens an image using Pillow. It should return a numpy array with the image data,  should be a floating point\n",
    "    \"\"\"\n",
    "    image = Image.open(name)\n",
    "    image = np.array(image).astype(np.float32) \n",
    "    return image\n",
    "\n"
   ]
  },
  {
   "cell_type": "markdown",
   "metadata": {},
   "source": [
    "### Question 1:\n",
    "Create a function in python that implements the K-means clustering algorithm. \n",
    "\n",
    "**Question 1: How did you initialize the clustering process and why do you believe this was a good method of doing it?**\n"
   ]
  }
 ],
 "metadata": {
  "kernelspec": {
   "display_name": "base",
   "language": "python",
   "name": "python3"
  },
  "language_info": {
   "codemirror_mode": {
    "name": "ipython",
    "version": 3
   },
   "file_extension": ".py",
   "mimetype": "text/x-python",
   "name": "python",
   "nbconvert_exporter": "python",
   "pygments_lexer": "ipython3",
   "version": "3.9.13"
  }
 },
 "nbformat": 4,
 "nbformat_minor": 2
}
