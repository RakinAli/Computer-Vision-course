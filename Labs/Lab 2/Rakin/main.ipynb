{
 "cells": [
  {
   "cell_type": "markdown",
   "metadata": {},
   "source": [
    "# Lab 2 : Edge Detection and Hough Transform\n",
    "Below is the code given from the assignment. \n"
   ]
  },
  {
   "cell_type": "markdown",
   "metadata": {},
   "source": [
    "## Importing Libraries and prerequisites\n",
    "Below are the all the functions and libraries that are used in this assignment. "
   ]
  },
  {
   "cell_type": "code",
   "execution_count": 4,
   "metadata": {},
   "outputs": [],
   "source": [
    "import numpy as np\n",
    "from numpy.fft import fft2, ifft2, fftshift\n",
    "from scipy.signal import convolve2d, correlate2d\n",
    "import matplotlib.pyplot as plt\n",
    "\n",
    "from Functions import *\n",
    "from gaussfft import gaussfft"
   ]
  },
  {
   "cell_type": "markdown",
   "metadata": {},
   "source": [
    "Here are all the functions that were given to us to fill in "
   ]
  },
  {
   "cell_type": "code",
   "execution_count": null,
   "metadata": {},
   "outputs": [],
   "source": [
    "# Computes delta x using central difference\n",
    "def delta_x(image):\n",
    "    # Using a 3x3 filter mask --> from the lecture\n",
    "    dx = np.array([[0, 0, 0], [0.5, 0, -0.5], [0, 0, 0]])\n",
    "    dx_mask = convolve2d(image, dx, mode=\"same\")\n",
    "    return dx_mask\n",
    "\n",
    "\n",
    "# Computes delta y using central difference\n",
    "def delta_y(image):\n",
    "    # Using a 3x3 filter mask --> from the lecture\n",
    "    dy = np.array([[0, 0.5, 0], [0, 0, 0], [0, -0.5, 0]])\n",
    "    dy_mask = convolve2d(image, dy, mode=\"same\")\n",
    "    return dy_mask\n",
    "\n",
    "def sobel_x(image):\n",
    "    # Using a 3x3 filter mask --> from the lecture\n",
    "    dx = np.array([[-1, 0, 1], [-2, 0, 2], [-1, 0, 1]])\n",
    "    dx_mask = convolve2d(image, dx, mode=\"same\")\n",
    "    return dx_mask\n",
    "\n",
    "def sobel_y(image):\n",
    "    # Using a 3x3 filter mask --> from the lecture\n",
    "    dy = np.array([[-1, -2, -1], [0, 0, 0], [1, 2, 1]])\n",
    "    dy_mask = convolve2d(image, dy, mode=\"same\")\n",
    "    return dy_mask\n",
    "\n",
    "\n",
    "def Lv(inpic, shape=\"same\"):\n",
    "    # ...\n",
    "    return pass \n",
    "\n",
    "\n",
    "def Lvvtilde(inpic, shape=\"same\"):\n",
    "    # ...\n",
    "    return result\n",
    "\n",
    "\n",
    "def Lvvvtilde(inpic, shape=\"same\"):\n",
    "    # ...\n",
    "    return result\n",
    "\n",
    "\n",
    "def extractedge(inpic, scale, threshold, shape):\n",
    "    # ...\n",
    "    return contours\n",
    "\n",
    "\n",
    "#\n",
    "def houghline(curves, magnitude, nrho, ntheta, threshold, nlines=20, verbose=False):\n",
    "    # ...\n",
    "    return linepar, acc\n",
    "\n",
    "\n",
    "def houghedgeline(\n",
    "    pic, scale, gradmagnthreshold, nrho, ntheta, nlines=20, verbose=False\n",
    "):\n",
    "    # ...\n",
    "    return linepar, acc"
   ]
  }
 ],
 "metadata": {
  "kernelspec": {
   "display_name": "base",
   "language": "python",
   "name": "python3"
  },
  "language_info": {
   "codemirror_mode": {
    "name": "ipython",
    "version": 3
   },
   "file_extension": ".py",
   "mimetype": "text/x-python",
   "name": "python",
   "nbconvert_exporter": "python",
   "pygments_lexer": "ipython3",
   "version": "3.9.13"
  }
 },
 "nbformat": 4,
 "nbformat_minor": 2
}
